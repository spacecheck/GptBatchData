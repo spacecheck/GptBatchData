{
 "cells": [
  {
   "cell_type": "code",
   "execution_count": 1,
   "metadata": {},
   "outputs": [
    {
     "name": "stdout",
     "output_type": "stream",
     "text": [
      "Schema: Batch Mode\n"
     ]
    }
   ],
   "source": [
    "import json\n",
    "import os\n",
    "os.environ[\"USE_SCHEMA_BATCH_MODE\"] = \"True\"\n",
    "from Schema import ExtractedData\n",
    "import pandas as pd"
   ]
  },
  {
   "cell_type": "code",
   "execution_count": 2,
   "metadata": {},
   "outputs": [
    {
     "name": "stdout",
     "output_type": "stream",
     "text": [
      "System Prompt: You are an expert in extracting information from recepies.\n",
      "Prompt: Read the recipe and fill out the ExtractedData accordingly. Also give the recipe a funny pretentious name.\n",
      "\n"
     ]
    }
   ],
   "source": [
    "with open(\"prompt.json\", \"r\") as f:\n",
    "    prompts = json.load(f)\n",
    "    base_prompt = prompts[\"base_prompt\"]\n",
    "    system_prompt = prompts[\"system_prompt\"]\n",
    "\n",
    "print(\"System Prompt:\", system_prompt)\n",
    "print(\"Prompt:\", base_prompt)"
   ]
  },
  {
   "cell_type": "code",
   "execution_count": 3,
   "metadata": {},
   "outputs": [],
   "source": [
    "MAX_TOKENS = 2000 # Adjust as needed\n",
    "def make_request(custom_id, system_prompt, user_prompt, response_format):\n",
    "    tmp = {\"custom_id\": custom_id, \"method\": \"POST\", \"url\": \"/v1/chat/completions\", \"body\": {\"model\": \"gpt-4o-batch-2\", \"messages\": [{\"role\": \"system\", \"content\": system_prompt},{\"role\": \"user\", \"content\": user_prompt}],\"max_tokens\": MAX_TOKENS, \"response_format\": \"PLACEHOLDER\", \"temperature\": 0.2}}\n",
    "    tmp = json.dumps(tmp, ensure_ascii=False)\n",
    "    tmp = tmp.replace('\"PLACEHOLDER\"', response_format)\n",
    "    return tmp"
   ]
  },
  {
   "cell_type": "code",
   "execution_count": 4,
   "metadata": {},
   "outputs": [],
   "source": [
    "# you can have up to 50k requests in one file and files may be up to 200MB in size\n",
    "SPLITS = 2 # adjust as needed\n",
    "DATASET = \"[NAME]_whatever\" # adjust as needed\n",
    "\n",
    "df = pd.read_csv(\"data.csv\")\n",
    "split_points = list(range(len(df)))[::len(df)//SPLITS]\n",
    "\n",
    "schema = ExtractedData.model_json_schema()\n",
    "schema = json.dumps(schema, ensure_ascii=False)\n",
    "\n",
    "os.makedirs(\"files_jsonl\", exist_ok=True)\n",
    "for split_idx in range(SPLITS):\n",
    "\n",
    "    start_idx = split_points[split_idx]\n",
    "    end_idx = split_points[split_idx + 1] if split_idx + 1 < SPLITS else len(df)\n",
    "\n",
    "    with open(f'files_jsonl/{DATASET}-{start_idx}-{end_idx}.jsonl', 'w') as f:\n",
    "        for index, row in list(df.iterrows())[start_idx:end_idx]:\n",
    "            b_id = str(row[\"id\"])\n",
    "            prompt = base_prompt + row[\"text\"]\n",
    "            request = make_request(b_id, system_prompt, prompt, schema)\n",
    "            f.write(request + \"\\n\")"
   ]
  },
  {
   "cell_type": "code",
   "execution_count": null,
   "metadata": {},
   "outputs": [],
   "source": []
  }
 ],
 "metadata": {
  "kernelspec": {
   "display_name": "Python 3",
   "language": "python",
   "name": "python3"
  },
  "language_info": {
   "codemirror_mode": {
    "name": "ipython",
    "version": 3
   },
   "file_extension": ".py",
   "mimetype": "text/x-python",
   "name": "python",
   "nbconvert_exporter": "python",
   "pygments_lexer": "ipython3",
   "version": "3.10.13"
  }
 },
 "nbformat": 4,
 "nbformat_minor": 2
}
