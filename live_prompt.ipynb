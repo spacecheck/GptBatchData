{
 "cells": [
  {
   "cell_type": "code",
   "execution_count": 1,
   "metadata": {},
   "outputs": [
    {
     "name": "stdout",
     "output_type": "stream",
     "text": [
      "Schema: Interactive Mode\n"
     ]
    }
   ],
   "source": [
    "import os\n",
    "from openai import AzureOpenAI\n",
    "import json\n",
    "os.environ[\"USE_SCHEMA_BATCH_MODE\"] = \"false\"\n",
    "from Schema import ExtractedData\n",
    "import pandas as pd\n",
    "\n",
    "# you need to reload the notebok after changing the Schema\n",
    "# simply reruning this cell will not work"
   ]
  },
  {
   "cell_type": "code",
   "execution_count": 2,
   "metadata": {},
   "outputs": [],
   "source": [
    "df = pd.read_csv(\"data.csv\")\n",
    "# make sure id is string\n",
    "df[\"id\"] = df[\"id\"].astype(str)"
   ]
  },
  {
   "cell_type": "code",
   "execution_count": 3,
   "metadata": {},
   "outputs": [],
   "source": [
    "with open('key.txt', 'r') as file:\n",
    "    key = file.read().replace('\\n', '')\n",
    "\n",
    "with open('endpoint.txt', 'r') as file:\n",
    "    endpoint = file.read().replace('\\n', '')\n",
    "\n",
    "client = AzureOpenAI(api_key=key,\n",
    "                     api_version=\"2024-10-21\",\n",
    "                        azure_endpoint=endpoint)\n",
    "del key, endpoint\n",
    "\n",
    "deployment_name = \"gpt-4o-2\""
   ]
  },
  {
   "cell_type": "code",
   "execution_count": 4,
   "metadata": {},
   "outputs": [],
   "source": [
    "system_prompt = \"You are an expert in extracting information from recepies.\"\n",
    "base_prompt = '''Read the recipe and fill out the ExtractedData accordingly. Also give the recipe a funny pretentious name.\n",
    "'''\n",
    "# write to json file\n",
    "with open('prompt.json', 'w') as f:\n",
    "    json.dump({\"system_prompt\": system_prompt, \"base_prompt\": base_prompt}, f, ensure_ascii=False, indent=4)"
   ]
  },
  {
   "cell_type": "code",
   "execution_count": 5,
   "metadata": {},
   "outputs": [
    {
     "name": "stdout",
     "output_type": "stream",
     "text": [
      "Read the recipe and fill out the ExtractedData accordingly. Also give the recipe a funny pretentious name.\n",
      "Preheat the oven to 375 degrees F (190 degrees C). Grease a 12-cup muffin pan.\n",
      "Mix flour, baking powder, baking soda, and salt in a medium bowl.\n",
      "Beat together sugar, butter, and eggs in a large bowl until smooth. Mix in vanilla. Stir in apples, then gradually blend in flour mixture. Spoon batter into the prepared muffin pan.\n",
      "Make topping: Mix brown sugar, flour, and cinnamon in a small bowl. Cut in butter until mixture resembles coarse crumbs. Sprinkle over each muffin top.\n",
      "Bake in the preheated oven until a toothpick inserted in the center of a muffin comes out clean, about 20 minutes. Let sit 5 minutes before transferring muffins to a wire rack to cool.\n"
     ]
    }
   ],
   "source": [
    "id = \"90\"\n",
    "# find df with id 90\n",
    "df_text = df[df['id'] == id][\"text\"].values[0]\n",
    "prompt = base_prompt + df_text\n",
    "print(prompt)"
   ]
  },
  {
   "cell_type": "code",
   "execution_count": 6,
   "metadata": {},
   "outputs": [],
   "source": [
    "response = client.beta.chat.completions.parse(\n",
    "            model = deployment_name,\n",
    "            messages=[\n",
    "                {\"role\": \"system\", \"content\": system_prompt},\n",
    "                {\"role\": \"user\", \"content\": prompt},\n",
    "            ],\n",
    "            max_tokens=1500,\n",
    "            response_format=ExtractedData,\n",
    "            temperature=0.2\n",
    "        )"
   ]
  },
  {
   "cell_type": "code",
   "execution_count": 7,
   "metadata": {},
   "outputs": [
    {
     "name": "stdout",
     "output_type": "stream",
     "text": [
      "Finish Reason: stop\n",
      "Prompt Tokens: 510\n",
      "Completion Tokens: 74\n",
      "Cost: $0.0037\n",
      "{\"pretentious_recipy_name\":\"Artisanal Apple Infusion Muffin Masterpiece\",\"is_vegan\":false,\"oven_instructions\":{\"preheat_temperature_celcius\":190,\"time_in_oven_minutes\":20},\"recipe_type\":\"dessert\",\"necessary_utensils\":[\"oven\",\"muffin_pan\",\"bowl\",\"wire_rack\"]}\n"
     ]
    }
   ],
   "source": [
    "cost = (response.usage.completion_tokens / 1000 * 0.015 + response.usage.prompt_tokens / 1000 * 0.005) # costs depend on model and are 50% in batch mode\n",
    "reason = response.choices[0].finish_reason\n",
    "print(f\"Finish Reason: {reason}\")\n",
    "print(f\"Prompt Tokens: {response.usage.prompt_tokens}\")\n",
    "print(f\"Completion Tokens: {response.usage.completion_tokens}\")\n",
    "print(f\"Cost: ${cost:.4f}\")\n",
    "txt_response = response.choices[0].message.content\n",
    "print(txt_response)"
   ]
  },
  {
   "cell_type": "code",
   "execution_count": 8,
   "metadata": {},
   "outputs": [
    {
     "name": "stdout",
     "output_type": "stream",
     "text": [
      "{\n",
      "    \"is_vegan\": false,\n",
      "    \"necessary_utensils\": [\n",
      "        \"oven\",\n",
      "        \"muffin_pan\",\n",
      "        \"bowl\",\n",
      "        \"wire_rack\"\n",
      "    ],\n",
      "    \"oven_instructions\": {\n",
      "        \"preheat_temperature_celcius\": 190,\n",
      "        \"time_in_oven_minutes\": 20\n",
      "    },\n",
      "    \"pretentious_recipy_name\": \"Artisanal Apple Infusion Muffin Masterpiece\",\n",
      "    \"recipe_type\": \"dessert\"\n",
      "}\n"
     ]
    }
   ],
   "source": [
    "some_json = json.loads(txt_response)\n",
    "print(json.dumps(some_json, indent=4, sort_keys=True, ensure_ascii=False))"
   ]
  },
  {
   "cell_type": "code",
   "execution_count": 9,
   "metadata": {},
   "outputs": [],
   "source": [
    "# load response into pydantic model\n",
    "knee_mri_report = ExtractedData.model_validate(some_json)"
   ]
  },
  {
   "cell_type": "code",
   "execution_count": 10,
   "metadata": {},
   "outputs": [
    {
     "name": "stdout",
     "output_type": "stream",
     "text": [
      "pretentious_recipy_name='Artisanal Apple Infusion Muffin Masterpiece' is_vegan=False oven_instructions=OvenInstructions(preheat_temperature_celcius=190, time_in_oven_minutes=20) recipe_type=<RecipeType.DESSERT: 'dessert'> necessary_utensils=[<KitchenUtensil.oven: 'oven'>, <KitchenUtensil.muffin_pan: 'muffin_pan'>, <KitchenUtensil.bowl: 'bowl'>, <KitchenUtensil.wire_rack: 'wire_rack'>]\n"
     ]
    }
   ],
   "source": [
    "print(knee_mri_report)"
   ]
  },
  {
   "cell_type": "code",
   "execution_count": null,
   "metadata": {},
   "outputs": [],
   "source": []
  }
 ],
 "metadata": {
  "kernelspec": {
   "display_name": "Python 3",
   "language": "python",
   "name": "python3"
  },
  "language_info": {
   "codemirror_mode": {
    "name": "ipython",
    "version": 3
   },
   "file_extension": ".py",
   "mimetype": "text/x-python",
   "name": "python",
   "nbconvert_exporter": "python",
   "pygments_lexer": "ipython3",
   "version": "3.10.13"
  }
 },
 "nbformat": 4,
 "nbformat_minor": 2
}
